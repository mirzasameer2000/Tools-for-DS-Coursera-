{
 "cells": [
  {
   "cell_type": "markdown",
   "id": "1ef94069",
   "metadata": {},
   "source": [
    "# Data Science Tools and Ecosystem"
   ]
  },
  {
   "cell_type": "markdown",
   "id": "8fa865cb",
   "metadata": {},
   "source": [
    "In this notebook, Data Science Tools and Ecosystem are summarized."
   ]
  },
  {
   "cell_type": "markdown",
   "id": "769a4925",
   "metadata": {},
   "source": [
    "Some of the popular languages that Data Scientists use are:"
   ]
  },
  {
   "cell_type": "markdown",
   "id": "c765ce45",
   "metadata": {},
   "source": [
    "1. R\n",
    "2. SQL\n",
    "3. Python\n",
    "4. Java\n",
    "5. Scala\n",
    "6. Julia\n"
   ]
  },
  {
   "cell_type": "markdown",
   "id": "b3ab98f4",
   "metadata": {},
   "source": [
    "Some of the commonly used libraries used by Data Scientists include:"
   ]
  },
  {
   "cell_type": "markdown",
   "id": "716376a1",
   "metadata": {},
   "source": [
    "1. NumPy\n",
    "2. SciPy\n",
    "3. TensorFlow\n",
    "4. Pandas\n",
    "5. Matplotlib\n",
    "6. SciKit-Learn\n",
    "7. PyTorch\n",
    "8. Keras\n",
    "9. Seaborn"
   ]
  },
  {
   "cell_type": "markdown",
   "id": "dce24525",
   "metadata": {},
   "source": [
    "|Data Science Tools|\n",
    "|---|\n",
    "|IBM Watson Studio|\n",
    "|Anaconda|\n",
    "|Apache Hadoop|\n",
    "|Apache Spark|\n",
    "|NodeRed|\n",
    "|TensorFlow|\n",
    "|Git & GitHub|\n",
    "|Jupyter Notebooks|\n",
    "|RStudio|\n",
    "|SAS|\n",
    "|MySQL|\n",
    "|Docker\n",
    "|PixieDust|\n",
    "|SPSS|\n",
    "|Informatica|\n",
    "\n"
   ]
  },
  {
   "cell_type": "markdown",
   "id": "d47fad1c",
   "metadata": {},
   "source": [
    "### Below are a few examples of evaluating arithmetic expressions in Python:"
   ]
  },
  {
   "cell_type": "code",
   "execution_count": 4,
   "id": "0d25c7a9",
   "metadata": {},
   "outputs": [
    {
     "data": {
      "text/plain": [
       "17"
      ]
     },
     "execution_count": 4,
     "metadata": {},
     "output_type": "execute_result"
    }
   ],
   "source": [
    "#This a simple arithmetic expression to mutiply then add integers.\n",
    "(3*4)+5"
   ]
  },
  {
   "cell_type": "code",
   "execution_count": 5,
   "id": "944faba7",
   "metadata": {},
   "outputs": [
    {
     "data": {
      "text/plain": [
       "3.3333333333333335"
      ]
     },
     "execution_count": 5,
     "metadata": {},
     "output_type": "execute_result"
    }
   ],
   "source": [
    "#This will convert 200 minutes to hours by diving by 60.\n",
    "200/60"
   ]
  },
  {
   "cell_type": "markdown",
   "id": "967993a8",
   "metadata": {},
   "source": [
    "__Objectives:__"
   ]
  },
  {
   "cell_type": "markdown",
   "id": "5d20f394",
   "metadata": {},
   "source": [
    "* List popular languages for Data Science\n",
    "* List popular libraries for Data Science\n",
    "* List of Well Known Data Science Tools\n",
    "* How to provide comments in the cell\n"
   ]
  },
  {
   "cell_type": "markdown",
   "id": "37a72d25",
   "metadata": {},
   "source": [
    "## Author"
   ]
  },
  {
   "cell_type": "markdown",
   "id": "b65838c9",
   "metadata": {},
   "source": [
    "Muhammad Sameer"
   ]
  },
  {
   "cell_type": "code",
   "execution_count": null,
   "id": "d173983d",
   "metadata": {},
   "outputs": [],
   "source": []
  }
 ],
 "metadata": {
  "kernelspec": {
   "display_name": "Python 3 (ipykernel)",
   "language": "python",
   "name": "python3"
  },
  "language_info": {
   "codemirror_mode": {
    "name": "ipython",
    "version": 3
   },
   "file_extension": ".py",
   "mimetype": "text/x-python",
   "name": "python",
   "nbconvert_exporter": "python",
   "pygments_lexer": "ipython3",
   "version": "3.11.7"
  }
 },
 "nbformat": 4,
 "nbformat_minor": 5
}
